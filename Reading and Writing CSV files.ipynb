{
 "cells": [
  {
   "cell_type": "code",
   "execution_count": 2,
   "metadata": {
    "collapsed": true
   },
   "outputs": [
    {
     "name": "stdout",
     "output_type": "stream",
     "text": [
      "[{'': '1', 'manufacturer': 'audi', 'model': 'a4', 'displ': '1.8', 'year': '1999', 'cyl': '4', 'trans': 'auto(l5)', 'drv': 'f', 'cty': '18', 'hwy': '29', 'fl': 'p', 'class': 'compact'}, {'': '2', 'manufacturer': 'audi', 'model': 'a4', 'displ': '1.8', 'year': '1999', 'cyl': '4', 'trans': 'manual(m5)', 'drv': 'f', 'cty': '21', 'hwy': '29', 'fl': 'p', 'class': 'compact'}, {'': '3', 'manufacturer': 'audi', 'model': 'a4', 'displ': '2', 'year': '2008', 'cyl': '4', 'trans': 'manual(m6)', 'drv': 'f', 'cty': '20', 'hwy': '31', 'fl': 'p', 'class': 'compact'}, {'': '4', 'manufacturer': 'audi', 'model': 'a4', 'displ': '2', 'year': '2008', 'cyl': '4', 'trans': 'auto(av)', 'drv': 'f', 'cty': '21', 'hwy': '30', 'fl': 'p', 'class': 'compact'}, {'': '5', 'manufacturer': 'audi', 'model': 'a4', 'displ': '2.8', 'year': '1999', 'cyl': '6', 'trans': 'auto(l5)', 'drv': 'f', 'cty': '16', 'hwy': '26', 'fl': 'p', 'class': 'compact'}, {'': '6', 'manufacturer': 'audi', 'model': 'a4', 'displ': '2.8', 'year': '1999', 'cyl': '6', 'trans': 'manual(m5)', 'drv': 'f', 'cty': '18', 'hwy': '26', 'fl': 'p', 'class': 'compact'}, {'': '7', 'manufacturer': 'audi', 'model': 'a4', 'displ': '3.1', 'year': '2008', 'cyl': '6', 'trans': 'auto(av)', 'drv': 'f', 'cty': '18', 'hwy': '27', 'fl': 'p', 'class': 'compact'}, {'': '8', 'manufacturer': 'audi', 'model': 'a4 quattro', 'displ': '1.8', 'year': '1999', 'cyl': '4', 'trans': 'manual(m5)', 'drv': '4', 'cty': '18', 'hwy': '26', 'fl': 'p', 'class': 'compact'}, {'': '9', 'manufacturer': 'audi', 'model': 'a4 quattro', 'displ': '1.8', 'year': '1999', 'cyl': '4', 'trans': 'auto(l5)', 'drv': '4', 'cty': '16', 'hwy': '25', 'fl': 'p', 'class': 'compact'}, {'': '10', 'manufacturer': 'audi', 'model': 'a4 quattro', 'displ': '2', 'year': '2008', 'cyl': '4', 'trans': 'manual(m6)', 'drv': '4', 'cty': '20', 'hwy': '28', 'fl': 'p', 'class': 'compact'}, {'': '11', 'manufacturer': 'audi', 'model': 'a4 quattro', 'displ': '2', 'year': '2008', 'cyl': '4', 'trans': 'auto(s6)', 'drv': '4', 'cty': '19', 'hwy': '27', 'fl': 'p', 'class': 'compact'}, {'': '12', 'manufacturer': 'audi', 'model': 'a4 quattro', 'displ': '2.8', 'year': '1999', 'cyl': '6', 'trans': 'auto(l5)', 'drv': '4', 'cty': '15', 'hwy': '25', 'fl': 'p', 'class': 'compact'}, {'': '13', 'manufacturer': 'audi', 'model': 'a4 quattro', 'displ': '2.8', 'year': '1999', 'cyl': '6', 'trans': 'manual(m5)', 'drv': '4', 'cty': '17', 'hwy': '25', 'fl': 'p', 'class': 'compact'}, {'': '14', 'manufacturer': 'audi', 'model': 'a4 quattro', 'displ': '3.1', 'year': '2008', 'cyl': '6', 'trans': 'auto(s6)', 'drv': '4', 'cty': '17', 'hwy': '25', 'fl': 'p', 'class': 'compact'}, {'': '15', 'manufacturer': 'audi', 'model': 'a4 quattro', 'displ': '3.1', 'year': '2008', 'cyl': '6', 'trans': 'manual(m6)', 'drv': '4', 'cty': '15', 'hwy': '25', 'fl': 'p', 'class': 'compact'}, {'': '16', 'manufacturer': 'audi', 'model': 'a6 quattro', 'displ': '2.8', 'year': '1999', 'cyl': '6', 'trans': 'auto(l5)', 'drv': '4', 'cty': '15', 'hwy': '24', 'fl': 'p', 'class': 'midsize'}, {'': '17', 'manufacturer': 'audi', 'model': 'a6 quattro', 'displ': '3.1', 'year': '2008', 'cyl': '6', 'trans': 'auto(s6)', 'drv': '4', 'cty': '17', 'hwy': '25', 'fl': 'p', 'class': 'midsize'}, {'': '18', 'manufacturer': 'audi', 'model': 'a6 quattro', 'displ': '4.2', 'year': '2008', 'cyl': '8', 'trans': 'auto(s6)', 'drv': '4', 'cty': '16', 'hwy': '23', 'fl': 'p', 'class': 'midsize'}, {'': '19', 'manufacturer': 'chevrolet', 'model': 'c1500 suburban 2wd', 'displ': '5.3', 'year': '2008', 'cyl': '8', 'trans': 'auto(l4)', 'drv': 'r', 'cty': '14', 'hwy': '20', 'fl': 'r', 'class': 'suv'}, {'': '20', 'manufacturer': 'chevrolet', 'model': 'c1500 suburban 2wd', 'displ': '5.3', 'year': '2008', 'cyl': '8', 'trans': 'auto(l4)', 'drv': 'r', 'cty': '11', 'hwy': '15', 'fl': 'e', 'class': 'suv'}, {'': '21', 'manufacturer': 'chevrolet', 'model': 'c1500 suburban 2wd', 'displ': '5.3', 'year': '2008', 'cyl': '8', 'trans': 'auto(l4)', 'drv': 'r', 'cty': '14', 'hwy': '20', 'fl': 'r', 'class': 'suv'}, {'': '22', 'manufacturer': 'chevrolet', 'model': 'c1500 suburban 2wd', 'displ': '5.7', 'year': '1999', 'cyl': '8', 'trans': 'auto(l4)', 'drv': 'r', 'cty': '13', 'hwy': '17', 'fl': 'r', 'class': 'suv'}, {'': '23', 'manufacturer': 'chevrolet', 'model': 'c1500 suburban 2wd', 'displ': '6', 'year': '2008', 'cyl': '8', 'trans': 'auto(l4)', 'drv': 'r', 'cty': '12', 'hwy': '17', 'fl': 'r', 'class': 'suv'}, {'': '24', 'manufacturer': 'chevrolet', 'model': 'corvette', 'displ': '5.7', 'year': '1999', 'cyl': '8', 'trans': 'manual(m6)', 'drv': 'r', 'cty': '16', 'hwy': '26', 'fl': 'p', 'class': '2seater'}, {'': '25', 'manufacturer': 'chevrolet', 'model': 'corvette', 'displ': '5.7', 'year': '1999', 'cyl': '8', 'trans': 'auto(l4)', 'drv': 'r', 'cty': '15', 'hwy': '23', 'fl': 'p', 'class': '2seater'}, {'': '26', 'manufacturer': 'chevrolet', 'model': 'corvette', 'displ': '6.2', 'year': '2008', 'cyl': '8', 'trans': 'manual(m6)', 'drv': 'r', 'cty': '16', 'hwy': '26', 'fl': 'p', 'class': '2seater'}, {'': '27', 'manufacturer': 'chevrolet', 'model': 'corvette', 'displ': '6.2', 'year': '2008', 'cyl': '8', 'trans': 'auto(s6)', 'drv': 'r', 'cty': '15', 'hwy': '25', 'fl': 'p', 'class': '2seater'}, {'': '28', 'manufacturer': 'chevrolet', 'model': 'corvette', 'displ': '7', 'year': '2008', 'cyl': '8', 'trans': 'manual(m6)', 'drv': 'r', 'cty': '15', 'hwy': '24', 'fl': 'p', 'class': '2seater'}, {'': '29', 'manufacturer': 'chevrolet', 'model': 'k1500 tahoe 4wd', 'displ': '5.3', 'year': '2008', 'cyl': '8', 'trans': 'auto(l4)', 'drv': '4', 'cty': '14', 'hwy': '19', 'fl': 'r', 'class': 'suv'}, {'': '30', 'manufacturer': 'chevrolet', 'model': 'k1500 tahoe 4wd', 'displ': '5.3', 'year': '2008', 'cyl': '8', 'trans': 'auto(l4)', 'drv': '4', 'cty': '11', 'hwy': '14', 'fl': 'e', 'class': 'suv'}, {'': '31', 'manufacturer': 'chevrolet', 'model': 'k1500 tahoe 4wd', 'displ': '5.7', 'year': '1999', 'cyl': '8', 'trans': 'auto(l4)', 'drv': '4', 'cty': '11', 'hwy': '15', 'fl': 'r', 'class': 'suv'}, {'': '32', 'manufacturer': 'chevrolet', 'model': 'k1500 tahoe 4wd', 'displ': '6.5', 'year': '1999', 'cyl': '8', 'trans': 'auto(l4)', 'drv': '4', 'cty': '14', 'hwy': '17', 'fl': 'd', 'class': 'suv'}, {'': '33', 'manufacturer': 'chevrolet', 'model': 'malibu', 'displ': '2.4', 'year': '1999', 'cyl': '4', 'trans': 'auto(l4)', 'drv': 'f', 'cty': '19', 'hwy': '27', 'fl': 'r', 'class': 'midsize'}, {'': '34', 'manufacturer': 'chevrolet', 'model': 'malibu', 'displ': '2.4', 'year': '2008', 'cyl': '4', 'trans': 'auto(l4)', 'drv': 'f', 'cty': '22', 'hwy': '30', 'fl': 'r', 'class': 'midsize'}, {'': '35', 'manufacturer': 'chevrolet', 'model': 'malibu', 'displ': '3.1', 'year': '1999', 'cyl': '6', 'trans': 'auto(l4)', 'drv': 'f', 'cty': '18', 'hwy': '26', 'fl': 'r', 'class': 'midsize'}, {'': '36', 'manufacturer': 'chevrolet', 'model': 'malibu', 'displ': '3.5', 'year': '2008', 'cyl': '6', 'trans': 'auto(l4)', 'drv': 'f', 'cty': '18', 'hwy': '29', 'fl': 'r', 'class': 'midsize'}, {'': '37', 'manufacturer': 'chevrolet', 'model': 'malibu', 'displ': '3.6', 'year': '2008', 'cyl': '6', 'trans': 'auto(s6)', 'drv': 'f', 'cty': '17', 'hwy': '26', 'fl': 'r', 'class': 'midsize'}, {'': '38', 'manufacturer': 'dodge', 'model': 'caravan 2wd', 'displ': '2.4', 'year': '1999', 'cyl': '4', 'trans': 'auto(l3)', 'drv': 'f', 'cty': '18', 'hwy': '24', 'fl': 'r', 'class': 'minivan'}, {'': '39', 'manufacturer': 'dodge', 'model': 'caravan 2wd', 'displ': '3', 'year': '1999', 'cyl': '6', 'trans': 'auto(l4)', 'drv': 'f', 'cty': '17', 'hwy': '24', 'fl': 'r', 'class': 'minivan'}, {'': '40', 'manufacturer': 'dodge', 'model': 'caravan 2wd', 'displ': '3.3', 'year': '1999', 'cyl': '6', 'trans': 'auto(l4)', 'drv': 'f', 'cty': '16', 'hwy': '22', 'fl': 'r', 'class': 'minivan'}, {'': '41', 'manufacturer': 'dodge', 'model': 'caravan 2wd', 'displ': '3.3', 'year': '1999', 'cyl': '6', 'trans': 'auto(l4)', 'drv': 'f', 'cty': '16', 'hwy': '22', 'fl': 'r', 'class': 'minivan'}, {'': '42', 'manufacturer': 'dodge', 'model': 'caravan 2wd', 'displ': '3.3', 'year': '2008', 'cyl': '6', 'trans': 'auto(l4)', 'drv': 'f', 'cty': '17', 'hwy': '24', 'fl': 'r', 'class': 'minivan'}, {'': '43', 'manufacturer': 'dodge', 'model': 'caravan 2wd', 'displ': '3.3', 'year': '2008', 'cyl': '6', 'trans': 'auto(l4)', 'drv': 'f', 'cty': '17', 'hwy': '24', 'fl': 'r', 'class': 'minivan'}, {'': '44', 'manufacturer': 'dodge', 'model': 'caravan 2wd', 'displ': '3.3', 'year': '2008', 'cyl': '6', 'trans': 'auto(l4)', 'drv': 'f', 'cty': '11', 'hwy': '17', 'fl': 'e', 'class': 'minivan'}, {'': '45', 'manufacturer': 'dodge', 'model': 'caravan 2wd', 'displ': '3.8', 'year': '1999', 'cyl': '6', 'trans': 'auto(l4)', 'drv': 'f', 'cty': '15', 'hwy': '22', 'fl': 'r', 'class': 'minivan'}, {'': '46', 'manufacturer': 'dodge', 'model': 'caravan 2wd', 'displ': '3.8', 'year': '1999', 'cyl': '6', 'trans': 'auto(l4)', 'drv': 'f', 'cty': '15', 'hwy': '21', 'fl': 'r', 'class': 'minivan'}, {'': '47', 'manufacturer': 'dodge', 'model': 'caravan 2wd', 'displ': '3.8', 'year': '2008', 'cyl': '6', 'trans': 'auto(l6)', 'drv': 'f', 'cty': '16', 'hwy': '23', 'fl': 'r', 'class': 'minivan'}, {'': '48', 'manufacturer': 'dodge', 'model': 'caravan 2wd', 'displ': '4', 'year': '2008', 'cyl': '6', 'trans': 'auto(l6)', 'drv': 'f', 'cty': '16', 'hwy': '23', 'fl': 'r', 'class': 'minivan'}, {'': '49', 'manufacturer': 'dodge', 'model': 'dakota pickup 4wd', 'displ': '3.7', 'year': '2008', 'cyl': '6', 'trans': 'manual(m6)', 'drv': '4', 'cty': '15', 'hwy': '19', 'fl': 'r', 'class': 'pickup'}, {'': '50', 'manufacturer': 'dodge', 'model': 'dakota pickup 4wd', 'displ': '3.7', 'year': '2008', 'cyl': '6', 'trans': 'auto(l4)', 'drv': '4', 'cty': '14', 'hwy': '18', 'fl': 'r', 'class': 'pickup'}, {'': '51', 'manufacturer': 'dodge', 'model': 'dakota pickup 4wd', 'displ': '3.9', 'year': '1999', 'cyl': '6', 'trans': 'auto(l4)', 'drv': '4', 'cty': '13', 'hwy': '17', 'fl': 'r', 'class': 'pickup'}, {'': '52', 'manufacturer': 'dodge', 'model': 'dakota pickup 4wd', 'displ': '3.9', 'year': '1999', 'cyl': '6', 'trans': 'manual(m5)', 'drv': '4', 'cty': '14', 'hwy': '17', 'fl': 'r', 'class': 'pickup'}, {'': '53', 'manufacturer': 'dodge', 'model': 'dakota pickup 4wd', 'displ': '4.7', 'year': '2008', 'cyl': '8', 'trans': 'auto(l5)', 'drv': '4', 'cty': '14', 'hwy': '19', 'fl': 'r', 'class': 'pickup'}, {'': '54', 'manufacturer': 'dodge', 'model': 'dakota pickup 4wd', 'displ': '4.7', 'year': '2008', 'cyl': '8', 'trans': 'auto(l5)', 'drv': '4', 'cty': '14', 'hwy': '19', 'fl': 'r', 'class': 'pickup'}, {'': '55', 'manufacturer': 'dodge', 'model': 'dakota pickup 4wd', 'displ': '4.7', 'year': '2008', 'cyl': '8', 'trans': 'auto(l5)', 'drv': '4', 'cty': '9', 'hwy': '12', 'fl': 'e', 'class': 'pickup'}, {'': '56', 'manufacturer': 'dodge', 'model': 'dakota pickup 4wd', 'displ': '5.2', 'year': '1999', 'cyl': '8', 'trans': 'manual(m5)', 'drv': '4', 'cty': '11', 'hwy': '17', 'fl': 'r', 'class': 'pickup'}, {'': '57', 'manufacturer': 'dodge', 'model': 'dakota pickup 4wd', 'displ': '5.2', 'year': '1999', 'cyl': '8', 'trans': 'auto(l4)', 'drv': '4', 'cty': '11', 'hwy': '15', 'fl': 'r', 'class': 'pickup'}, {'': '58', 'manufacturer': 'dodge', 'model': 'durango 4wd', 'displ': '3.9', 'year': '1999', 'cyl': '6', 'trans': 'auto(l4)', 'drv': '4', 'cty': '13', 'hwy': '17', 'fl': 'r', 'class': 'suv'}, {'': '59', 'manufacturer': 'dodge', 'model': 'durango 4wd', 'displ': '4.7', 'year': '2008', 'cyl': '8', 'trans': 'auto(l5)', 'drv': '4', 'cty': '13', 'hwy': '17', 'fl': 'r', 'class': 'suv'}, {'': '60', 'manufacturer': 'dodge', 'model': 'durango 4wd', 'displ': '4.7', 'year': '2008', 'cyl': '8', 'trans': 'auto(l5)', 'drv': '4', 'cty': '9', 'hwy': '12', 'fl': 'e', 'class': 'suv'}, {'': '61', 'manufacturer': 'dodge', 'model': 'durango 4wd', 'displ': '4.7', 'year': '2008', 'cyl': '8', 'trans': 'auto(l5)', 'drv': '4', 'cty': '13', 'hwy': '17', 'fl': 'r', 'class': 'suv'}, {'': '62', 'manufacturer': 'dodge', 'model': 'durango 4wd', 'displ': '5.2', 'year': '1999', 'cyl': '8', 'trans': 'auto(l4)', 'drv': '4', 'cty': '11', 'hwy': '16', 'fl': 'r', 'class': 'suv'}, {'': '63', 'manufacturer': 'dodge', 'model': 'durango 4wd', 'displ': '5.7', 'year': '2008', 'cyl': '8', 'trans': 'auto(l5)', 'drv': '4', 'cty': '13', 'hwy': '18', 'fl': 'r', 'class': 'suv'}, {'': '64', 'manufacturer': 'dodge', 'model': 'durango 4wd', 'displ': '5.9', 'year': '1999', 'cyl': '8', 'trans': 'auto(l4)', 'drv': '4', 'cty': '11', 'hwy': '15', 'fl': 'r', 'class': 'suv'}, {'': '65', 'manufacturer': 'dodge', 'model': 'ram 1500 pickup 4wd', 'displ': '4.7', 'year': '2008', 'cyl': '8', 'trans': 'manual(m6)', 'drv': '4', 'cty': '12', 'hwy': '16', 'fl': 'r', 'class': 'pickup'}, {'': '66', 'manufacturer': 'dodge', 'model': 'ram 1500 pickup 4wd', 'displ': '4.7', 'year': '2008', 'cyl': '8', 'trans': 'auto(l5)', 'drv': '4', 'cty': '9', 'hwy': '12', 'fl': 'e', 'class': 'pickup'}, {'': '67', 'manufacturer': 'dodge', 'model': 'ram 1500 pickup 4wd', 'displ': '4.7', 'year': '2008', 'cyl': '8', 'trans': 'auto(l5)', 'drv': '4', 'cty': '13', 'hwy': '17', 'fl': 'r', 'class': 'pickup'}, {'': '68', 'manufacturer': 'dodge', 'model': 'ram 1500 pickup 4wd', 'displ': '4.7', 'year': '2008', 'cyl': '8', 'trans': 'auto(l5)', 'drv': '4', 'cty': '13', 'hwy': '17', 'fl': 'r', 'class': 'pickup'}, {'': '69', 'manufacturer': 'dodge', 'model': 'ram 1500 pickup 4wd', 'displ': '4.7', 'year': '2008', 'cyl': '8', 'trans': 'manual(m6)', 'drv': '4', 'cty': '12', 'hwy': '16', 'fl': 'r', 'class': 'pickup'}, {'': '70', 'manufacturer': 'dodge', 'model': 'ram 1500 pickup 4wd', 'displ': '4.7', 'year': '2008', 'cyl': '8', 'trans': 'manual(m6)', 'drv': '4', 'cty': '9', 'hwy': '12', 'fl': 'e', 'class': 'pickup'}, {'': '71', 'manufacturer': 'dodge', 'model': 'ram 1500 pickup 4wd', 'displ': '5.2', 'year': '1999', 'cyl': '8', 'trans': 'auto(l4)', 'drv': '4', 'cty': '11', 'hwy': '15', 'fl': 'r', 'class': 'pickup'}, {'': '72', 'manufacturer': 'dodge', 'model': 'ram 1500 pickup 4wd', 'displ': '5.2', 'year': '1999', 'cyl': '8', 'trans': 'manual(m5)', 'drv': '4', 'cty': '11', 'hwy': '16', 'fl': 'r', 'class': 'pickup'}, {'': '73', 'manufacturer': 'dodge', 'model': 'ram 1500 pickup 4wd', 'displ': '5.7', 'year': '2008', 'cyl': '8', 'trans': 'auto(l5)', 'drv': '4', 'cty': '13', 'hwy': '17', 'fl': 'r', 'class': 'pickup'}, {'': '74', 'manufacturer': 'dodge', 'model': 'ram 1500 pickup 4wd', 'displ': '5.9', 'year': '1999', 'cyl': '8', 'trans': 'auto(l4)', 'drv': '4', 'cty': '11', 'hwy': '15', 'fl': 'r', 'class': 'pickup'}, {'': '75', 'manufacturer': 'ford', 'model': 'expedition 2wd', 'displ': '4.6', 'year': '1999', 'cyl': '8', 'trans': 'auto(l4)', 'drv': 'r', 'cty': '11', 'hwy': '17', 'fl': 'r', 'class': 'suv'}, {'': '76', 'manufacturer': 'ford', 'model': 'expedition 2wd', 'displ': '5.4', 'year': '1999', 'cyl': '8', 'trans': 'auto(l4)', 'drv': 'r', 'cty': '11', 'hwy': '17', 'fl': 'r', 'class': 'suv'}, {'': '77', 'manufacturer': 'ford', 'model': 'expedition 2wd', 'displ': '5.4', 'year': '2008', 'cyl': '8', 'trans': 'auto(l6)', 'drv': 'r', 'cty': '12', 'hwy': '18', 'fl': 'r', 'class': 'suv'}, {'': '78', 'manufacturer': 'ford', 'model': 'explorer 4wd', 'displ': '4', 'year': '1999', 'cyl': '6', 'trans': 'auto(l5)', 'drv': '4', 'cty': '14', 'hwy': '17', 'fl': 'r', 'class': 'suv'}, {'': '79', 'manufacturer': 'ford', 'model': 'explorer 4wd', 'displ': '4', 'year': '1999', 'cyl': '6', 'trans': 'manual(m5)', 'drv': '4', 'cty': '15', 'hwy': '19', 'fl': 'r', 'class': 'suv'}, {'': '80', 'manufacturer': 'ford', 'model': 'explorer 4wd', 'displ': '4', 'year': '1999', 'cyl': '6', 'trans': 'auto(l5)', 'drv': '4', 'cty': '14', 'hwy': '17', 'fl': 'r', 'class': 'suv'}, {'': '81', 'manufacturer': 'ford', 'model': 'explorer 4wd', 'displ': '4', 'year': '2008', 'cyl': '6', 'trans': 'auto(l5)', 'drv': '4', 'cty': '13', 'hwy': '19', 'fl': 'r', 'class': 'suv'}, {'': '82', 'manufacturer': 'ford', 'model': 'explorer 4wd', 'displ': '4.6', 'year': '2008', 'cyl': '8', 'trans': 'auto(l6)', 'drv': '4', 'cty': '13', 'hwy': '19', 'fl': 'r', 'class': 'suv'}, {'': '83', 'manufacturer': 'ford', 'model': 'explorer 4wd', 'displ': '5', 'year': '1999', 'cyl': '8', 'trans': 'auto(l4)', 'drv': '4', 'cty': '13', 'hwy': '17', 'fl': 'r', 'class': 'suv'}, {'': '84', 'manufacturer': 'ford', 'model': 'f150 pickup 4wd', 'displ': '4.2', 'year': '1999', 'cyl': '6', 'trans': 'auto(l4)', 'drv': '4', 'cty': '14', 'hwy': '17', 'fl': 'r', 'class': 'pickup'}, {'': '85', 'manufacturer': 'ford', 'model': 'f150 pickup 4wd', 'displ': '4.2', 'year': '1999', 'cyl': '6', 'trans': 'manual(m5)', 'drv': '4', 'cty': '14', 'hwy': '17', 'fl': 'r', 'class': 'pickup'}, {'': '86', 'manufacturer': 'ford', 'model': 'f150 pickup 4wd', 'displ': '4.6', 'year': '1999', 'cyl': '8', 'trans': 'manual(m5)', 'drv': '4', 'cty': '13', 'hwy': '16', 'fl': 'r', 'class': 'pickup'}, {'': '87', 'manufacturer': 'ford', 'model': 'f150 pickup 4wd', 'displ': '4.6', 'year': '1999', 'cyl': '8', 'trans': 'auto(l4)', 'drv': '4', 'cty': '13', 'hwy': '16', 'fl': 'r', 'class': 'pickup'}, {'': '88', 'manufacturer': 'ford', 'model': 'f150 pickup 4wd', 'displ': '4.6', 'year': '2008', 'cyl': '8', 'trans': 'auto(l4)', 'drv': '4', 'cty': '13', 'hwy': '17', 'fl': 'r', 'class': 'pickup'}, {'': '89', 'manufacturer': 'ford', 'model': 'f150 pickup 4wd', 'displ': '5.4', 'year': '1999', 'cyl': '8', 'trans': 'auto(l4)', 'drv': '4', 'cty': '11', 'hwy': '15', 'fl': 'r', 'class': 'pickup'}, {'': '90', 'manufacturer': 'ford', 'model': 'f150 pickup 4wd', 'displ': '5.4', 'year': '2008', 'cyl': '8', 'trans': 'auto(l4)', 'drv': '4', 'cty': '13', 'hwy': '17', 'fl': 'r', 'class': 'pickup'}, {'': '91', 'manufacturer': 'ford', 'model': 'mustang', 'displ': '3.8', 'year': '1999', 'cyl': '6', 'trans': 'manual(m5)', 'drv': 'r', 'cty': '18', 'hwy': '26', 'fl': 'r', 'class': 'subcompact'}, {'': '92', 'manufacturer': 'ford', 'model': 'mustang', 'displ': '3.8', 'year': '1999', 'cyl': '6', 'trans': 'auto(l4)', 'drv': 'r', 'cty': '18', 'hwy': '25', 'fl': 'r', 'class': 'subcompact'}, {'': '93', 'manufacturer': 'ford', 'model': 'mustang', 'displ': '4', 'year': '2008', 'cyl': '6', 'trans': 'manual(m5)', 'drv': 'r', 'cty': '17', 'hwy': '26', 'fl': 'r', 'class': 'subcompact'}, {'': '94', 'manufacturer': 'ford', 'model': 'mustang', 'displ': '4', 'year': '2008', 'cyl': '6', 'trans': 'auto(l5)', 'drv': 'r', 'cty': '16', 'hwy': '24', 'fl': 'r', 'class': 'subcompact'}, {'': '95', 'manufacturer': 'ford', 'model': 'mustang', 'displ': '4.6', 'year': '1999', 'cyl': '8', 'trans': 'auto(l4)', 'drv': 'r', 'cty': '15', 'hwy': '21', 'fl': 'r', 'class': 'subcompact'}, {'': '96', 'manufacturer': 'ford', 'model': 'mustang', 'displ': '4.6', 'year': '1999', 'cyl': '8', 'trans': 'manual(m5)', 'drv': 'r', 'cty': '15', 'hwy': '22', 'fl': 'r', 'class': 'subcompact'}, {'': '97', 'manufacturer': 'ford', 'model': 'mustang', 'displ': '4.6', 'year': '2008', 'cyl': '8', 'trans': 'manual(m5)', 'drv': 'r', 'cty': '15', 'hwy': '23', 'fl': 'r', 'class': 'subcompact'}, {'': '98', 'manufacturer': 'ford', 'model': 'mustang', 'displ': '4.6', 'year': '2008', 'cyl': '8', 'trans': 'auto(l5)', 'drv': 'r', 'cty': '15', 'hwy': '22', 'fl': 'r', 'class': 'subcompact'}, {'': '99', 'manufacturer': 'ford', 'model': 'mustang', 'displ': '5.4', 'year': '2008', 'cyl': '8', 'trans': 'manual(m6)', 'drv': 'r', 'cty': '14', 'hwy': '20', 'fl': 'p', 'class': 'subcompact'}, {'': '100', 'manufacturer': 'honda', 'model': 'civic', 'displ': '1.6', 'year': '1999', 'cyl': '4', 'trans': 'manual(m5)', 'drv': 'f', 'cty': '28', 'hwy': '33', 'fl': 'r', 'class': 'subcompact'}, {'': '101', 'manufacturer': 'honda', 'model': 'civic', 'displ': '1.6', 'year': '1999', 'cyl': '4', 'trans': 'auto(l4)', 'drv': 'f', 'cty': '24', 'hwy': '32', 'fl': 'r', 'class': 'subcompact'}, {'': '102', 'manufacturer': 'honda', 'model': 'civic', 'displ': '1.6', 'year': '1999', 'cyl': '4', 'trans': 'manual(m5)', 'drv': 'f', 'cty': '25', 'hwy': '32', 'fl': 'r', 'class': 'subcompact'}, {'': '103', 'manufacturer': 'honda', 'model': 'civic', 'displ': '1.6', 'year': '1999', 'cyl': '4', 'trans': 'manual(m5)', 'drv': 'f', 'cty': '23', 'hwy': '29', 'fl': 'p', 'class': 'subcompact'}, {'': '104', 'manufacturer': 'honda', 'model': 'civic', 'displ': '1.6', 'year': '1999', 'cyl': '4', 'trans': 'auto(l4)', 'drv': 'f', 'cty': '24', 'hwy': '32', 'fl': 'r', 'class': 'subcompact'}, {'': '105', 'manufacturer': 'honda', 'model': 'civic', 'displ': '1.8', 'year': '2008', 'cyl': '4', 'trans': 'manual(m5)', 'drv': 'f', 'cty': '26', 'hwy': '34', 'fl': 'r', 'class': 'subcompact'}, {'': '106', 'manufacturer': 'honda', 'model': 'civic', 'displ': '1.8', 'year': '2008', 'cyl': '4', 'trans': 'auto(l5)', 'drv': 'f', 'cty': '25', 'hwy': '36', 'fl': 'r', 'class': 'subcompact'}, {'': '107', 'manufacturer': 'honda', 'model': 'civic', 'displ': '1.8', 'year': '2008', 'cyl': '4', 'trans': 'auto(l5)', 'drv': 'f', 'cty': '24', 'hwy': '36', 'fl': 'c', 'class': 'subcompact'}, {'': '108', 'manufacturer': 'honda', 'model': 'civic', 'displ': '2', 'year': '2008', 'cyl': '4', 'trans': 'manual(m6)', 'drv': 'f', 'cty': '21', 'hwy': '29', 'fl': 'p', 'class': 'subcompact'}, {'': '109', 'manufacturer': 'hyundai', 'model': 'sonata', 'displ': '2.4', 'year': '1999', 'cyl': '4', 'trans': 'auto(l4)', 'drv': 'f', 'cty': '18', 'hwy': '26', 'fl': 'r', 'class': 'midsize'}, {'': '110', 'manufacturer': 'hyundai', 'model': 'sonata', 'displ': '2.4', 'year': '1999', 'cyl': '4', 'trans': 'manual(m5)', 'drv': 'f', 'cty': '18', 'hwy': '27', 'fl': 'r', 'class': 'midsize'}, {'': '111', 'manufacturer': 'hyundai', 'model': 'sonata', 'displ': '2.4', 'year': '2008', 'cyl': '4', 'trans': 'auto(l4)', 'drv': 'f', 'cty': '21', 'hwy': '30', 'fl': 'r', 'class': 'midsize'}, {'': '112', 'manufacturer': 'hyundai', 'model': 'sonata', 'displ': '2.4', 'year': '2008', 'cyl': '4', 'trans': 'manual(m5)', 'drv': 'f', 'cty': '21', 'hwy': '31', 'fl': 'r', 'class': 'midsize'}, {'': '113', 'manufacturer': 'hyundai', 'model': 'sonata', 'displ': '2.5', 'year': '1999', 'cyl': '6', 'trans': 'auto(l4)', 'drv': 'f', 'cty': '18', 'hwy': '26', 'fl': 'r', 'class': 'midsize'}, {'': '114', 'manufacturer': 'hyundai', 'model': 'sonata', 'displ': '2.5', 'year': '1999', 'cyl': '6', 'trans': 'manual(m5)', 'drv': 'f', 'cty': '18', 'hwy': '26', 'fl': 'r', 'class': 'midsize'}, {'': '115', 'manufacturer': 'hyundai', 'model': 'sonata', 'displ': '3.3', 'year': '2008', 'cyl': '6', 'trans': 'auto(l5)', 'drv': 'f', 'cty': '19', 'hwy': '28', 'fl': 'r', 'class': 'midsize'}, {'': '116', 'manufacturer': 'hyundai', 'model': 'tiburon', 'displ': '2', 'year': '1999', 'cyl': '4', 'trans': 'auto(l4)', 'drv': 'f', 'cty': '19', 'hwy': '26', 'fl': 'r', 'class': 'subcompact'}, {'': '117', 'manufacturer': 'hyundai', 'model': 'tiburon', 'displ': '2', 'year': '1999', 'cyl': '4', 'trans': 'manual(m5)', 'drv': 'f', 'cty': '19', 'hwy': '29', 'fl': 'r', 'class': 'subcompact'}, {'': '118', 'manufacturer': 'hyundai', 'model': 'tiburon', 'displ': '2', 'year': '2008', 'cyl': '4', 'trans': 'manual(m5)', 'drv': 'f', 'cty': '20', 'hwy': '28', 'fl': 'r', 'class': 'subcompact'}, {'': '119', 'manufacturer': 'hyundai', 'model': 'tiburon', 'displ': '2', 'year': '2008', 'cyl': '4', 'trans': 'auto(l4)', 'drv': 'f', 'cty': '20', 'hwy': '27', 'fl': 'r', 'class': 'subcompact'}, {'': '120', 'manufacturer': 'hyundai', 'model': 'tiburon', 'displ': '2.7', 'year': '2008', 'cyl': '6', 'trans': 'auto(l4)', 'drv': 'f', 'cty': '17', 'hwy': '24', 'fl': 'r', 'class': 'subcompact'}, {'': '121', 'manufacturer': 'hyundai', 'model': 'tiburon', 'displ': '2.7', 'year': '2008', 'cyl': '6', 'trans': 'manual(m6)', 'drv': 'f', 'cty': '16', 'hwy': '24', 'fl': 'r', 'class': 'subcompact'}, {'': '122', 'manufacturer': 'hyundai', 'model': 'tiburon', 'displ': '2.7', 'year': '2008', 'cyl': '6', 'trans': 'manual(m5)', 'drv': 'f', 'cty': '17', 'hwy': '24', 'fl': 'r', 'class': 'subcompact'}, {'': '123', 'manufacturer': 'jeep', 'model': 'grand cherokee 4wd', 'displ': '3', 'year': '2008', 'cyl': '6', 'trans': 'auto(l5)', 'drv': '4', 'cty': '17', 'hwy': '22', 'fl': 'd', 'class': 'suv'}, {'': '124', 'manufacturer': 'jeep', 'model': 'grand cherokee 4wd', 'displ': '3.7', 'year': '2008', 'cyl': '6', 'trans': 'auto(l5)', 'drv': '4', 'cty': '15', 'hwy': '19', 'fl': 'r', 'class': 'suv'}, {'': '125', 'manufacturer': 'jeep', 'model': 'grand cherokee 4wd', 'displ': '4', 'year': '1999', 'cyl': '6', 'trans': 'auto(l4)', 'drv': '4', 'cty': '15', 'hwy': '20', 'fl': 'r', 'class': 'suv'}, {'': '126', 'manufacturer': 'jeep', 'model': 'grand cherokee 4wd', 'displ': '4.7', 'year': '1999', 'cyl': '8', 'trans': 'auto(l4)', 'drv': '4', 'cty': '14', 'hwy': '17', 'fl': 'r', 'class': 'suv'}, {'': '127', 'manufacturer': 'jeep', 'model': 'grand cherokee 4wd', 'displ': '4.7', 'year': '2008', 'cyl': '8', 'trans': 'auto(l5)', 'drv': '4', 'cty': '9', 'hwy': '12', 'fl': 'e', 'class': 'suv'}, {'': '128', 'manufacturer': 'jeep', 'model': 'grand cherokee 4wd', 'displ': '4.7', 'year': '2008', 'cyl': '8', 'trans': 'auto(l5)', 'drv': '4', 'cty': '14', 'hwy': '19', 'fl': 'r', 'class': 'suv'}, {'': '129', 'manufacturer': 'jeep', 'model': 'grand cherokee 4wd', 'displ': '5.7', 'year': '2008', 'cyl': '8', 'trans': 'auto(l5)', 'drv': '4', 'cty': '13', 'hwy': '18', 'fl': 'r', 'class': 'suv'}, {'': '130', 'manufacturer': 'jeep', 'model': 'grand cherokee 4wd', 'displ': '6.1', 'year': '2008', 'cyl': '8', 'trans': 'auto(l5)', 'drv': '4', 'cty': '11', 'hwy': '14', 'fl': 'p', 'class': 'suv'}, {'': '131', 'manufacturer': 'land rover', 'model': 'range rover', 'displ': '4', 'year': '1999', 'cyl': '8', 'trans': 'auto(l4)', 'drv': '4', 'cty': '11', 'hwy': '15', 'fl': 'p', 'class': 'suv'}, {'': '132', 'manufacturer': 'land rover', 'model': 'range rover', 'displ': '4.2', 'year': '2008', 'cyl': '8', 'trans': 'auto(s6)', 'drv': '4', 'cty': '12', 'hwy': '18', 'fl': 'r', 'class': 'suv'}, {'': '133', 'manufacturer': 'land rover', 'model': 'range rover', 'displ': '4.4', 'year': '2008', 'cyl': '8', 'trans': 'auto(s6)', 'drv': '4', 'cty': '12', 'hwy': '18', 'fl': 'r', 'class': 'suv'}, {'': '134', 'manufacturer': 'land rover', 'model': 'range rover', 'displ': '4.6', 'year': '1999', 'cyl': '8', 'trans': 'auto(l4)', 'drv': '4', 'cty': '11', 'hwy': '15', 'fl': 'p', 'class': 'suv'}, {'': '135', 'manufacturer': 'lincoln', 'model': 'navigator 2wd', 'displ': '5.4', 'year': '1999', 'cyl': '8', 'trans': 'auto(l4)', 'drv': 'r', 'cty': '11', 'hwy': '17', 'fl': 'r', 'class': 'suv'}, {'': '136', 'manufacturer': 'lincoln', 'model': 'navigator 2wd', 'displ': '5.4', 'year': '1999', 'cyl': '8', 'trans': 'auto(l4)', 'drv': 'r', 'cty': '11', 'hwy': '16', 'fl': 'p', 'class': 'suv'}, {'': '137', 'manufacturer': 'lincoln', 'model': 'navigator 2wd', 'displ': '5.4', 'year': '2008', 'cyl': '8', 'trans': 'auto(l6)', 'drv': 'r', 'cty': '12', 'hwy': '18', 'fl': 'r', 'class': 'suv'}, {'': '138', 'manufacturer': 'mercury', 'model': 'mountaineer 4wd', 'displ': '4', 'year': '1999', 'cyl': '6', 'trans': 'auto(l5)', 'drv': '4', 'cty': '14', 'hwy': '17', 'fl': 'r', 'class': 'suv'}, {'': '139', 'manufacturer': 'mercury', 'model': 'mountaineer 4wd', 'displ': '4', 'year': '2008', 'cyl': '6', 'trans': 'auto(l5)', 'drv': '4', 'cty': '13', 'hwy': '19', 'fl': 'r', 'class': 'suv'}, {'': '140', 'manufacturer': 'mercury', 'model': 'mountaineer 4wd', 'displ': '4.6', 'year': '2008', 'cyl': '8', 'trans': 'auto(l6)', 'drv': '4', 'cty': '13', 'hwy': '19', 'fl': 'r', 'class': 'suv'}, {'': '141', 'manufacturer': 'mercury', 'model': 'mountaineer 4wd', 'displ': '5', 'year': '1999', 'cyl': '8', 'trans': 'auto(l4)', 'drv': '4', 'cty': '13', 'hwy': '17', 'fl': 'r', 'class': 'suv'}, {'': '142', 'manufacturer': 'nissan', 'model': 'altima', 'displ': '2.4', 'year': '1999', 'cyl': '4', 'trans': 'manual(m5)', 'drv': 'f', 'cty': '21', 'hwy': '29', 'fl': 'r', 'class': 'compact'}, {'': '143', 'manufacturer': 'nissan', 'model': 'altima', 'displ': '2.4', 'year': '1999', 'cyl': '4', 'trans': 'auto(l4)', 'drv': 'f', 'cty': '19', 'hwy': '27', 'fl': 'r', 'class': 'compact'}, {'': '144', 'manufacturer': 'nissan', 'model': 'altima', 'displ': '2.5', 'year': '2008', 'cyl': '4', 'trans': 'auto(av)', 'drv': 'f', 'cty': '23', 'hwy': '31', 'fl': 'r', 'class': 'midsize'}, {'': '145', 'manufacturer': 'nissan', 'model': 'altima', 'displ': '2.5', 'year': '2008', 'cyl': '4', 'trans': 'manual(m6)', 'drv': 'f', 'cty': '23', 'hwy': '32', 'fl': 'r', 'class': 'midsize'}, {'': '146', 'manufacturer': 'nissan', 'model': 'altima', 'displ': '3.5', 'year': '2008', 'cyl': '6', 'trans': 'manual(m6)', 'drv': 'f', 'cty': '19', 'hwy': '27', 'fl': 'p', 'class': 'midsize'}, {'': '147', 'manufacturer': 'nissan', 'model': 'altima', 'displ': '3.5', 'year': '2008', 'cyl': '6', 'trans': 'auto(av)', 'drv': 'f', 'cty': '19', 'hwy': '26', 'fl': 'p', 'class': 'midsize'}, {'': '148', 'manufacturer': 'nissan', 'model': 'maxima', 'displ': '3', 'year': '1999', 'cyl': '6', 'trans': 'auto(l4)', 'drv': 'f', 'cty': '18', 'hwy': '26', 'fl': 'r', 'class': 'midsize'}, {'': '149', 'manufacturer': 'nissan', 'model': 'maxima', 'displ': '3', 'year': '1999', 'cyl': '6', 'trans': 'manual(m5)', 'drv': 'f', 'cty': '19', 'hwy': '25', 'fl': 'r', 'class': 'midsize'}, {'': '150', 'manufacturer': 'nissan', 'model': 'maxima', 'displ': '3.5', 'year': '2008', 'cyl': '6', 'trans': 'auto(av)', 'drv': 'f', 'cty': '19', 'hwy': '25', 'fl': 'p', 'class': 'midsize'}, {'': '151', 'manufacturer': 'nissan', 'model': 'pathfinder 4wd', 'displ': '3.3', 'year': '1999', 'cyl': '6', 'trans': 'auto(l4)', 'drv': '4', 'cty': '14', 'hwy': '17', 'fl': 'r', 'class': 'suv'}, {'': '152', 'manufacturer': 'nissan', 'model': 'pathfinder 4wd', 'displ': '3.3', 'year': '1999', 'cyl': '6', 'trans': 'manual(m5)', 'drv': '4', 'cty': '15', 'hwy': '17', 'fl': 'r', 'class': 'suv'}, {'': '153', 'manufacturer': 'nissan', 'model': 'pathfinder 4wd', 'displ': '4', 'year': '2008', 'cyl': '6', 'trans': 'auto(l5)', 'drv': '4', 'cty': '14', 'hwy': '20', 'fl': 'p', 'class': 'suv'}, {'': '154', 'manufacturer': 'nissan', 'model': 'pathfinder 4wd', 'displ': '5.6', 'year': '2008', 'cyl': '8', 'trans': 'auto(s5)', 'drv': '4', 'cty': '12', 'hwy': '18', 'fl': 'p', 'class': 'suv'}, {'': '155', 'manufacturer': 'pontiac', 'model': 'grand prix', 'displ': '3.1', 'year': '1999', 'cyl': '6', 'trans': 'auto(l4)', 'drv': 'f', 'cty': '18', 'hwy': '26', 'fl': 'r', 'class': 'midsize'}, {'': '156', 'manufacturer': 'pontiac', 'model': 'grand prix', 'displ': '3.8', 'year': '1999', 'cyl': '6', 'trans': 'auto(l4)', 'drv': 'f', 'cty': '16', 'hwy': '26', 'fl': 'p', 'class': 'midsize'}, {'': '157', 'manufacturer': 'pontiac', 'model': 'grand prix', 'displ': '3.8', 'year': '1999', 'cyl': '6', 'trans': 'auto(l4)', 'drv': 'f', 'cty': '17', 'hwy': '27', 'fl': 'r', 'class': 'midsize'}, {'': '158', 'manufacturer': 'pontiac', 'model': 'grand prix', 'displ': '3.8', 'year': '2008', 'cyl': '6', 'trans': 'auto(l4)', 'drv': 'f', 'cty': '18', 'hwy': '28', 'fl': 'r', 'class': 'midsize'}, {'': '159', 'manufacturer': 'pontiac', 'model': 'grand prix', 'displ': '5.3', 'year': '2008', 'cyl': '8', 'trans': 'auto(s4)', 'drv': 'f', 'cty': '16', 'hwy': '25', 'fl': 'p', 'class': 'midsize'}, {'': '160', 'manufacturer': 'subaru', 'model': 'forester awd', 'displ': '2.5', 'year': '1999', 'cyl': '4', 'trans': 'manual(m5)', 'drv': '4', 'cty': '18', 'hwy': '25', 'fl': 'r', 'class': 'suv'}, {'': '161', 'manufacturer': 'subaru', 'model': 'forester awd', 'displ': '2.5', 'year': '1999', 'cyl': '4', 'trans': 'auto(l4)', 'drv': '4', 'cty': '18', 'hwy': '24', 'fl': 'r', 'class': 'suv'}, {'': '162', 'manufacturer': 'subaru', 'model': 'forester awd', 'displ': '2.5', 'year': '2008', 'cyl': '4', 'trans': 'manual(m5)', 'drv': '4', 'cty': '20', 'hwy': '27', 'fl': 'r', 'class': 'suv'}, {'': '163', 'manufacturer': 'subaru', 'model': 'forester awd', 'displ': '2.5', 'year': '2008', 'cyl': '4', 'trans': 'manual(m5)', 'drv': '4', 'cty': '19', 'hwy': '25', 'fl': 'p', 'class': 'suv'}, {'': '164', 'manufacturer': 'subaru', 'model': 'forester awd', 'displ': '2.5', 'year': '2008', 'cyl': '4', 'trans': 'auto(l4)', 'drv': '4', 'cty': '20', 'hwy': '26', 'fl': 'r', 'class': 'suv'}, {'': '165', 'manufacturer': 'subaru', 'model': 'forester awd', 'displ': '2.5', 'year': '2008', 'cyl': '4', 'trans': 'auto(l4)', 'drv': '4', 'cty': '18', 'hwy': '23', 'fl': 'p', 'class': 'suv'}, {'': '166', 'manufacturer': 'subaru', 'model': 'impreza awd', 'displ': '2.2', 'year': '1999', 'cyl': '4', 'trans': 'auto(l4)', 'drv': '4', 'cty': '21', 'hwy': '26', 'fl': 'r', 'class': 'subcompact'}, {'': '167', 'manufacturer': 'subaru', 'model': 'impreza awd', 'displ': '2.2', 'year': '1999', 'cyl': '4', 'trans': 'manual(m5)', 'drv': '4', 'cty': '19', 'hwy': '26', 'fl': 'r', 'class': 'subcompact'}, {'': '168', 'manufacturer': 'subaru', 'model': 'impreza awd', 'displ': '2.5', 'year': '1999', 'cyl': '4', 'trans': 'manual(m5)', 'drv': '4', 'cty': '19', 'hwy': '26', 'fl': 'r', 'class': 'subcompact'}, {'': '169', 'manufacturer': 'subaru', 'model': 'impreza awd', 'displ': '2.5', 'year': '1999', 'cyl': '4', 'trans': 'auto(l4)', 'drv': '4', 'cty': '19', 'hwy': '26', 'fl': 'r', 'class': 'subcompact'}, {'': '170', 'manufacturer': 'subaru', 'model': 'impreza awd', 'displ': '2.5', 'year': '2008', 'cyl': '4', 'trans': 'auto(s4)', 'drv': '4', 'cty': '20', 'hwy': '25', 'fl': 'p', 'class': 'compact'}, {'': '171', 'manufacturer': 'subaru', 'model': 'impreza awd', 'displ': '2.5', 'year': '2008', 'cyl': '4', 'trans': 'auto(s4)', 'drv': '4', 'cty': '20', 'hwy': '27', 'fl': 'r', 'class': 'compact'}, {'': '172', 'manufacturer': 'subaru', 'model': 'impreza awd', 'displ': '2.5', 'year': '2008', 'cyl': '4', 'trans': 'manual(m5)', 'drv': '4', 'cty': '19', 'hwy': '25', 'fl': 'p', 'class': 'compact'}, {'': '173', 'manufacturer': 'subaru', 'model': 'impreza awd', 'displ': '2.5', 'year': '2008', 'cyl': '4', 'trans': 'manual(m5)', 'drv': '4', 'cty': '20', 'hwy': '27', 'fl': 'r', 'class': 'compact'}, {'': '174', 'manufacturer': 'toyota', 'model': '4runner 4wd', 'displ': '2.7', 'year': '1999', 'cyl': '4', 'trans': 'manual(m5)', 'drv': '4', 'cty': '15', 'hwy': '20', 'fl': 'r', 'class': 'suv'}, {'': '175', 'manufacturer': 'toyota', 'model': '4runner 4wd', 'displ': '2.7', 'year': '1999', 'cyl': '4', 'trans': 'auto(l4)', 'drv': '4', 'cty': '16', 'hwy': '20', 'fl': 'r', 'class': 'suv'}, {'': '176', 'manufacturer': 'toyota', 'model': '4runner 4wd', 'displ': '3.4', 'year': '1999', 'cyl': '6', 'trans': 'auto(l4)', 'drv': '4', 'cty': '15', 'hwy': '19', 'fl': 'r', 'class': 'suv'}, {'': '177', 'manufacturer': 'toyota', 'model': '4runner 4wd', 'displ': '3.4', 'year': '1999', 'cyl': '6', 'trans': 'manual(m5)', 'drv': '4', 'cty': '15', 'hwy': '17', 'fl': 'r', 'class': 'suv'}, {'': '178', 'manufacturer': 'toyota', 'model': '4runner 4wd', 'displ': '4', 'year': '2008', 'cyl': '6', 'trans': 'auto(l5)', 'drv': '4', 'cty': '16', 'hwy': '20', 'fl': 'r', 'class': 'suv'}, {'': '179', 'manufacturer': 'toyota', 'model': '4runner 4wd', 'displ': '4.7', 'year': '2008', 'cyl': '8', 'trans': 'auto(l5)', 'drv': '4', 'cty': '14', 'hwy': '17', 'fl': 'r', 'class': 'suv'}, {'': '180', 'manufacturer': 'toyota', 'model': 'camry', 'displ': '2.2', 'year': '1999', 'cyl': '4', 'trans': 'manual(m5)', 'drv': 'f', 'cty': '21', 'hwy': '29', 'fl': 'r', 'class': 'midsize'}, {'': '181', 'manufacturer': 'toyota', 'model': 'camry', 'displ': '2.2', 'year': '1999', 'cyl': '4', 'trans': 'auto(l4)', 'drv': 'f', 'cty': '21', 'hwy': '27', 'fl': 'r', 'class': 'midsize'}, {'': '182', 'manufacturer': 'toyota', 'model': 'camry', 'displ': '2.4', 'year': '2008', 'cyl': '4', 'trans': 'manual(m5)', 'drv': 'f', 'cty': '21', 'hwy': '31', 'fl': 'r', 'class': 'midsize'}, {'': '183', 'manufacturer': 'toyota', 'model': 'camry', 'displ': '2.4', 'year': '2008', 'cyl': '4', 'trans': 'auto(l5)', 'drv': 'f', 'cty': '21', 'hwy': '31', 'fl': 'r', 'class': 'midsize'}, {'': '184', 'manufacturer': 'toyota', 'model': 'camry', 'displ': '3', 'year': '1999', 'cyl': '6', 'trans': 'auto(l4)', 'drv': 'f', 'cty': '18', 'hwy': '26', 'fl': 'r', 'class': 'midsize'}, {'': '185', 'manufacturer': 'toyota', 'model': 'camry', 'displ': '3', 'year': '1999', 'cyl': '6', 'trans': 'manual(m5)', 'drv': 'f', 'cty': '18', 'hwy': '26', 'fl': 'r', 'class': 'midsize'}, {'': '186', 'manufacturer': 'toyota', 'model': 'camry', 'displ': '3.5', 'year': '2008', 'cyl': '6', 'trans': 'auto(s6)', 'drv': 'f', 'cty': '19', 'hwy': '28', 'fl': 'r', 'class': 'midsize'}, {'': '187', 'manufacturer': 'toyota', 'model': 'camry solara', 'displ': '2.2', 'year': '1999', 'cyl': '4', 'trans': 'auto(l4)', 'drv': 'f', 'cty': '21', 'hwy': '27', 'fl': 'r', 'class': 'compact'}, {'': '188', 'manufacturer': 'toyota', 'model': 'camry solara', 'displ': '2.2', 'year': '1999', 'cyl': '4', 'trans': 'manual(m5)', 'drv': 'f', 'cty': '21', 'hwy': '29', 'fl': 'r', 'class': 'compact'}, {'': '189', 'manufacturer': 'toyota', 'model': 'camry solara', 'displ': '2.4', 'year': '2008', 'cyl': '4', 'trans': 'manual(m5)', 'drv': 'f', 'cty': '21', 'hwy': '31', 'fl': 'r', 'class': 'compact'}, {'': '190', 'manufacturer': 'toyota', 'model': 'camry solara', 'displ': '2.4', 'year': '2008', 'cyl': '4', 'trans': 'auto(s5)', 'drv': 'f', 'cty': '22', 'hwy': '31', 'fl': 'r', 'class': 'compact'}, {'': '191', 'manufacturer': 'toyota', 'model': 'camry solara', 'displ': '3', 'year': '1999', 'cyl': '6', 'trans': 'auto(l4)', 'drv': 'f', 'cty': '18', 'hwy': '26', 'fl': 'r', 'class': 'compact'}, {'': '192', 'manufacturer': 'toyota', 'model': 'camry solara', 'displ': '3', 'year': '1999', 'cyl': '6', 'trans': 'manual(m5)', 'drv': 'f', 'cty': '18', 'hwy': '26', 'fl': 'r', 'class': 'compact'}, {'': '193', 'manufacturer': 'toyota', 'model': 'camry solara', 'displ': '3.3', 'year': '2008', 'cyl': '6', 'trans': 'auto(s5)', 'drv': 'f', 'cty': '18', 'hwy': '27', 'fl': 'r', 'class': 'compact'}, {'': '194', 'manufacturer': 'toyota', 'model': 'corolla', 'displ': '1.8', 'year': '1999', 'cyl': '4', 'trans': 'auto(l3)', 'drv': 'f', 'cty': '24', 'hwy': '30', 'fl': 'r', 'class': 'compact'}, {'': '195', 'manufacturer': 'toyota', 'model': 'corolla', 'displ': '1.8', 'year': '1999', 'cyl': '4', 'trans': 'auto(l4)', 'drv': 'f', 'cty': '24', 'hwy': '33', 'fl': 'r', 'class': 'compact'}, {'': '196', 'manufacturer': 'toyota', 'model': 'corolla', 'displ': '1.8', 'year': '1999', 'cyl': '4', 'trans': 'manual(m5)', 'drv': 'f', 'cty': '26', 'hwy': '35', 'fl': 'r', 'class': 'compact'}, {'': '197', 'manufacturer': 'toyota', 'model': 'corolla', 'displ': '1.8', 'year': '2008', 'cyl': '4', 'trans': 'manual(m5)', 'drv': 'f', 'cty': '28', 'hwy': '37', 'fl': 'r', 'class': 'compact'}, {'': '198', 'manufacturer': 'toyota', 'model': 'corolla', 'displ': '1.8', 'year': '2008', 'cyl': '4', 'trans': 'auto(l4)', 'drv': 'f', 'cty': '26', 'hwy': '35', 'fl': 'r', 'class': 'compact'}, {'': '199', 'manufacturer': 'toyota', 'model': 'land cruiser wagon 4wd', 'displ': '4.7', 'year': '1999', 'cyl': '8', 'trans': 'auto(l4)', 'drv': '4', 'cty': '11', 'hwy': '15', 'fl': 'r', 'class': 'suv'}, {'': '200', 'manufacturer': 'toyota', 'model': 'land cruiser wagon 4wd', 'displ': '5.7', 'year': '2008', 'cyl': '8', 'trans': 'auto(s6)', 'drv': '4', 'cty': '13', 'hwy': '18', 'fl': 'r', 'class': 'suv'}, {'': '201', 'manufacturer': 'toyota', 'model': 'toyota tacoma 4wd', 'displ': '2.7', 'year': '1999', 'cyl': '4', 'trans': 'manual(m5)', 'drv': '4', 'cty': '15', 'hwy': '20', 'fl': 'r', 'class': 'pickup'}, {'': '202', 'manufacturer': 'toyota', 'model': 'toyota tacoma 4wd', 'displ': '2.7', 'year': '1999', 'cyl': '4', 'trans': 'auto(l4)', 'drv': '4', 'cty': '16', 'hwy': '20', 'fl': 'r', 'class': 'pickup'}, {'': '203', 'manufacturer': 'toyota', 'model': 'toyota tacoma 4wd', 'displ': '2.7', 'year': '2008', 'cyl': '4', 'trans': 'manual(m5)', 'drv': '4', 'cty': '17', 'hwy': '22', 'fl': 'r', 'class': 'pickup'}, {'': '204', 'manufacturer': 'toyota', 'model': 'toyota tacoma 4wd', 'displ': '3.4', 'year': '1999', 'cyl': '6', 'trans': 'manual(m5)', 'drv': '4', 'cty': '15', 'hwy': '17', 'fl': 'r', 'class': 'pickup'}, {'': '205', 'manufacturer': 'toyota', 'model': 'toyota tacoma 4wd', 'displ': '3.4', 'year': '1999', 'cyl': '6', 'trans': 'auto(l4)', 'drv': '4', 'cty': '15', 'hwy': '19', 'fl': 'r', 'class': 'pickup'}, {'': '206', 'manufacturer': 'toyota', 'model': 'toyota tacoma 4wd', 'displ': '4', 'year': '2008', 'cyl': '6', 'trans': 'manual(m6)', 'drv': '4', 'cty': '15', 'hwy': '18', 'fl': 'r', 'class': 'pickup'}, {'': '207', 'manufacturer': 'toyota', 'model': 'toyota tacoma 4wd', 'displ': '4', 'year': '2008', 'cyl': '6', 'trans': 'auto(l5)', 'drv': '4', 'cty': '16', 'hwy': '20', 'fl': 'r', 'class': 'pickup'}, {'': '208', 'manufacturer': 'volkswagen', 'model': 'gti', 'displ': '2', 'year': '1999', 'cyl': '4', 'trans': 'manual(m5)', 'drv': 'f', 'cty': '21', 'hwy': '29', 'fl': 'r', 'class': 'compact'}, {'': '209', 'manufacturer': 'volkswagen', 'model': 'gti', 'displ': '2', 'year': '1999', 'cyl': '4', 'trans': 'auto(l4)', 'drv': 'f', 'cty': '19', 'hwy': '26', 'fl': 'r', 'class': 'compact'}, {'': '210', 'manufacturer': 'volkswagen', 'model': 'gti', 'displ': '2', 'year': '2008', 'cyl': '4', 'trans': 'manual(m6)', 'drv': 'f', 'cty': '21', 'hwy': '29', 'fl': 'p', 'class': 'compact'}, {'': '211', 'manufacturer': 'volkswagen', 'model': 'gti', 'displ': '2', 'year': '2008', 'cyl': '4', 'trans': 'auto(s6)', 'drv': 'f', 'cty': '22', 'hwy': '29', 'fl': 'p', 'class': 'compact'}, {'': '212', 'manufacturer': 'volkswagen', 'model': 'gti', 'displ': '2.8', 'year': '1999', 'cyl': '6', 'trans': 'manual(m5)', 'drv': 'f', 'cty': '17', 'hwy': '24', 'fl': 'r', 'class': 'compact'}, {'': '213', 'manufacturer': 'volkswagen', 'model': 'jetta', 'displ': '1.9', 'year': '1999', 'cyl': '4', 'trans': 'manual(m5)', 'drv': 'f', 'cty': '33', 'hwy': '44', 'fl': 'd', 'class': 'compact'}, {'': '214', 'manufacturer': 'volkswagen', 'model': 'jetta', 'displ': '2', 'year': '1999', 'cyl': '4', 'trans': 'manual(m5)', 'drv': 'f', 'cty': '21', 'hwy': '29', 'fl': 'r', 'class': 'compact'}, {'': '215', 'manufacturer': 'volkswagen', 'model': 'jetta', 'displ': '2', 'year': '1999', 'cyl': '4', 'trans': 'auto(l4)', 'drv': 'f', 'cty': '19', 'hwy': '26', 'fl': 'r', 'class': 'compact'}, {'': '216', 'manufacturer': 'volkswagen', 'model': 'jetta', 'displ': '2', 'year': '2008', 'cyl': '4', 'trans': 'auto(s6)', 'drv': 'f', 'cty': '22', 'hwy': '29', 'fl': 'p', 'class': 'compact'}, {'': '217', 'manufacturer': 'volkswagen', 'model': 'jetta', 'displ': '2', 'year': '2008', 'cyl': '4', 'trans': 'manual(m6)', 'drv': 'f', 'cty': '21', 'hwy': '29', 'fl': 'p', 'class': 'compact'}, {'': '218', 'manufacturer': 'volkswagen', 'model': 'jetta', 'displ': '2.5', 'year': '2008', 'cyl': '5', 'trans': 'auto(s6)', 'drv': 'f', 'cty': '21', 'hwy': '29', 'fl': 'r', 'class': 'compact'}, {'': '219', 'manufacturer': 'volkswagen', 'model': 'jetta', 'displ': '2.5', 'year': '2008', 'cyl': '5', 'trans': 'manual(m5)', 'drv': 'f', 'cty': '21', 'hwy': '29', 'fl': 'r', 'class': 'compact'}, {'': '220', 'manufacturer': 'volkswagen', 'model': 'jetta', 'displ': '2.8', 'year': '1999', 'cyl': '6', 'trans': 'auto(l4)', 'drv': 'f', 'cty': '16', 'hwy': '23', 'fl': 'r', 'class': 'compact'}, {'': '221', 'manufacturer': 'volkswagen', 'model': 'jetta', 'displ': '2.8', 'year': '1999', 'cyl': '6', 'trans': 'manual(m5)', 'drv': 'f', 'cty': '17', 'hwy': '24', 'fl': 'r', 'class': 'compact'}, {'': '222', 'manufacturer': 'volkswagen', 'model': 'new beetle', 'displ': '1.9', 'year': '1999', 'cyl': '4', 'trans': 'manual(m5)', 'drv': 'f', 'cty': '35', 'hwy': '44', 'fl': 'd', 'class': 'subcompact'}, {'': '223', 'manufacturer': 'volkswagen', 'model': 'new beetle', 'displ': '1.9', 'year': '1999', 'cyl': '4', 'trans': 'auto(l4)', 'drv': 'f', 'cty': '29', 'hwy': '41', 'fl': 'd', 'class': 'subcompact'}, {'': '224', 'manufacturer': 'volkswagen', 'model': 'new beetle', 'displ': '2', 'year': '1999', 'cyl': '4', 'trans': 'manual(m5)', 'drv': 'f', 'cty': '21', 'hwy': '29', 'fl': 'r', 'class': 'subcompact'}, {'': '225', 'manufacturer': 'volkswagen', 'model': 'new beetle', 'displ': '2', 'year': '1999', 'cyl': '4', 'trans': 'auto(l4)', 'drv': 'f', 'cty': '19', 'hwy': '26', 'fl': 'r', 'class': 'subcompact'}, {'': '226', 'manufacturer': 'volkswagen', 'model': 'new beetle', 'displ': '2.5', 'year': '2008', 'cyl': '5', 'trans': 'manual(m5)', 'drv': 'f', 'cty': '20', 'hwy': '28', 'fl': 'r', 'class': 'subcompact'}, {'': '227', 'manufacturer': 'volkswagen', 'model': 'new beetle', 'displ': '2.5', 'year': '2008', 'cyl': '5', 'trans': 'auto(s6)', 'drv': 'f', 'cty': '20', 'hwy': '29', 'fl': 'r', 'class': 'subcompact'}, {'': '228', 'manufacturer': 'volkswagen', 'model': 'passat', 'displ': '1.8', 'year': '1999', 'cyl': '4', 'trans': 'manual(m5)', 'drv': 'f', 'cty': '21', 'hwy': '29', 'fl': 'p', 'class': 'midsize'}, {'': '229', 'manufacturer': 'volkswagen', 'model': 'passat', 'displ': '1.8', 'year': '1999', 'cyl': '4', 'trans': 'auto(l5)', 'drv': 'f', 'cty': '18', 'hwy': '29', 'fl': 'p', 'class': 'midsize'}, {'': '230', 'manufacturer': 'volkswagen', 'model': 'passat', 'displ': '2', 'year': '2008', 'cyl': '4', 'trans': 'auto(s6)', 'drv': 'f', 'cty': '19', 'hwy': '28', 'fl': 'p', 'class': 'midsize'}, {'': '231', 'manufacturer': 'volkswagen', 'model': 'passat', 'displ': '2', 'year': '2008', 'cyl': '4', 'trans': 'manual(m6)', 'drv': 'f', 'cty': '21', 'hwy': '29', 'fl': 'p', 'class': 'midsize'}, {'': '232', 'manufacturer': 'volkswagen', 'model': 'passat', 'displ': '2.8', 'year': '1999', 'cyl': '6', 'trans': 'auto(l5)', 'drv': 'f', 'cty': '16', 'hwy': '26', 'fl': 'p', 'class': 'midsize'}, {'': '233', 'manufacturer': 'volkswagen', 'model': 'passat', 'displ': '2.8', 'year': '1999', 'cyl': '6', 'trans': 'manual(m5)', 'drv': 'f', 'cty': '18', 'hwy': '26', 'fl': 'p', 'class': 'midsize'}, {'': '234', 'manufacturer': 'volkswagen', 'model': 'passat', 'displ': '3.6', 'year': '2008', 'cyl': '6', 'trans': 'auto(s6)', 'drv': 'f', 'cty': '17', 'hwy': '26', 'fl': 'p', 'class': 'midsize'}]\n"
     ]
    }
   ],
   "source": [
    "import csv\n",
    "\n",
    "%precision 2\n",
    "\n",
    "with open(\"mpg.csv\" , 'r') as myfile:\n",
    "    mpg_file = list(csv.DictReader(myfile))\n",
    "    \n",
    "print(mpg_file)"
   ]
  },
  {
   "cell_type": "code",
   "execution_count": 2,
   "metadata": {},
   "outputs": [
    {
     "data": {
      "text/plain": [
       "234"
      ]
     },
     "execution_count": 2,
     "metadata": {},
     "output_type": "execute_result"
    }
   ],
   "source": [
    "len(mpg_file)"
   ]
  },
  {
   "cell_type": "code",
   "execution_count": 3,
   "metadata": {},
   "outputs": [
    {
     "data": {
      "text/plain": [
       "dict_keys(['', 'manufacturer', 'model', 'displ', 'year', 'cyl', 'trans', 'drv', 'cty', 'hwy', 'fl', 'class'])"
      ]
     },
     "execution_count": 3,
     "metadata": {},
     "output_type": "execute_result"
    }
   ],
   "source": [
    "mpg_file[0].keys()"
   ]
  },
  {
   "cell_type": "code",
   "execution_count": 4,
   "metadata": {},
   "outputs": [
    {
     "data": {
      "text/plain": [
       "16.86"
      ]
     },
     "execution_count": 4,
     "metadata": {},
     "output_type": "execute_result"
    }
   ],
   "source": [
    "sum(float(i['cty']) for i in mpg_file)/ len(mpg_file)"
   ]
  },
  {
   "cell_type": "code",
   "execution_count": 4,
   "metadata": {},
   "outputs": [
    {
     "data": {
      "text/plain": [
       "23.44"
      ]
     },
     "execution_count": 4,
     "metadata": {},
     "output_type": "execute_result"
    }
   ],
   "source": [
    "sum(float(i['hwy']) for i in mpg_file) / len(mpg_file)"
   ]
  },
  {
   "cell_type": "code",
   "execution_count": 6,
   "metadata": {},
   "outputs": [
    {
     "data": {
      "text/plain": [
       "{'4', '5', '6', '8'}"
      ]
     },
     "execution_count": 6,
     "metadata": {},
     "output_type": "execute_result"
    }
   ],
   "source": [
    "#Types of cylinders (using SET to avoid duplicates)\n",
    "cylinders = set(i['cyl'] for i in mpg_file)\n",
    "cylinders"
   ]
  },
  {
   "cell_type": "code",
   "execution_count": 15,
   "metadata": {
    "collapsed": true
   },
   "outputs": [
    {
     "data": {
      "text/plain": [
       "[('8', 12.57), ('6', 14.50), ('4', 16.80), ('5', 16.86)]"
      ]
     },
     "execution_count": 15,
     "metadata": {},
     "output_type": "execute_result"
    }
   ],
   "source": [
    "#Average City mpg for different vehicle cylinders:\n",
    "\n",
    "cty_mpg_by_cyl = []\n",
    "sum_mpg = 0\n",
    "cyl_type_count = 0\n",
    "    \n",
    "for i in cylinders:\n",
    "    for j in mpg_file:\n",
    "        if j['cyl'] == i:\n",
    "            sum_mpg += float(j['cty'])\n",
    "            cyl_type_count += 1\n",
    "            avg_mpg = sum_mpg / cyl_type_count\n",
    "    cty_mpg_by_cyl.append((i, avg_mpg))\n",
    "\n",
    "cty_mpg_by_cyl"
   ]
  },
  {
   "cell_type": "code",
   "execution_count": 21,
   "metadata": {},
   "outputs": [
    {
     "data": {
      "text/plain": [
       "[('4', 16.80), ('5', 16.86), ('6', 14.50), ('8', 12.57)]"
      ]
     },
     "execution_count": 21,
     "metadata": {},
     "output_type": "execute_result"
    }
   ],
   "source": [
    "#sorting ascending\n",
    "cty_mpg_by_cyl.sort(key=lambda x:x[0])\n",
    "cty_mpg_by_cyl"
   ]
  },
  {
   "cell_type": "code",
   "execution_count": 17,
   "metadata": {
    "collapsed": true
   },
   "outputs": [
    {
     "data": {
      "text/plain": [
       "{'2seater', 'compact', 'midsize', 'minivan', 'pickup', 'subcompact', 'suv'}"
      ]
     },
     "execution_count": 17,
     "metadata": {},
     "output_type": "execute_result"
    }
   ],
   "source": [
    "#Types of classes (using SET to avoid duplicates)\n",
    "\n",
    "classes = set(i['class'] for i in mpg_file)\n",
    "classes"
   ]
  },
  {
   "cell_type": "code",
   "execution_count": 19,
   "metadata": {},
   "outputs": [
    {
     "data": {
      "text/plain": [
       "[('compact', 28.30),\n",
       " ('pickup', 23.59),\n",
       " ('midsize', 24.84),\n",
       " ('2seater', 24.84),\n",
       " ('minivan', 24.64),\n",
       " ('suv', 22.61),\n",
       " ('subcompact', 23.44)]"
      ]
     },
     "execution_count": 19,
     "metadata": {},
     "output_type": "execute_result"
    }
   ],
   "source": [
    "#Average Highwat mpg for different vehicle classes:\n",
    "\n",
    "hwy_mpg_by_class = []\n",
    "sum_mpg = 0\n",
    "class_type_count = 0\n",
    "\n",
    "for i in classes:\n",
    "    for j in mpg_file:\n",
    "        if j['class'] == i:\n",
    "            sum_mpg += float(j['hwy'])\n",
    "            class_type_count += 1\n",
    "            avg_mpg = sum_mpg/ class_type_count\n",
    "    hwy_mpg_by_class.append((i, avg_mpg))\n",
    "hwy_mpg_by_class"
   ]
  },
  {
   "cell_type": "code",
   "execution_count": 23,
   "metadata": {},
   "outputs": [
    {
     "data": {
      "text/plain": [
       "[('suv', 22.61),\n",
       " ('subcompact', 23.44),\n",
       " ('pickup', 23.59),\n",
       " ('minivan', 24.64),\n",
       " ('2seater', 24.84),\n",
       " ('midsize', 24.84),\n",
       " ('compact', 28.30)]"
      ]
     },
     "execution_count": 23,
     "metadata": {},
     "output_type": "execute_result"
    }
   ],
   "source": [
    "#sorting ascending\n",
    "hwy_mpg_by_class.sort(key=lambda x:x[1])\n",
    "hwy_mpg_by_class"
   ]
  },
  {
   "cell_type": "code",
   "execution_count": null,
   "metadata": {},
   "outputs": [],
   "source": []
  }
 ],
 "metadata": {
  "kernelspec": {
   "display_name": "Python 3.8.1 64-bit",
   "language": "python",
   "name": "python38164bit8ea4b43f7ecb444a946b491ad34f8cbe"
  },
  "language_info": {
   "codemirror_mode": {
    "name": "ipython",
    "version": 3
   },
   "file_extension": ".py",
   "mimetype": "text/x-python",
   "name": "python",
   "nbconvert_exporter": "python",
   "pygments_lexer": "ipython3",
   "version": "3.8.1"
  }
 },
 "nbformat": 4,
 "nbformat_minor": 4
}
